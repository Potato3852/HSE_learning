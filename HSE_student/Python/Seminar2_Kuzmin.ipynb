{
 "cells": [
  {
   "cell_type": "markdown",
   "id": "509bfab9",
   "metadata": {},
   "source": [
    "## В следующем блоке заданий используйте метод строк .format()"
   ]
  },
  {
   "cell_type": "markdown",
   "id": "953f1163",
   "metadata": {},
   "source": [
    "# Задача 1: Простая подстановка"
   ]
  },
  {
   "cell_type": "code",
   "execution_count": null,
   "id": "6c936cb5",
   "metadata": {},
   "outputs": [],
   "source": [
    "name = \"Анна\"\n",
    "age = 25\n",
    "\n",
    "answer = \"Привет, меня зовут {} и мне {} лет\".format(name, age)\n",
    "print(answer)"
   ]
  },
  {
   "cell_type": "markdown",
   "id": "179862e9",
   "metadata": {},
   "source": [
    "# Задача 2: Представьте числа в разных форматах"
   ]
  },
  {
   "cell_type": "code",
   "execution_count": null,
   "id": "1ed38a45",
   "metadata": {},
   "outputs": [],
   "source": [
    "value = 0.756\n",
    "\n",
    "\n",
    "print(\"Проценты: {:.2f}%\".format(value*100))\n",
    "print(\"Дробь: {:.3f}\".format(value))\n",
    "print(\"Научная нотация: {:.2e}\".format(value))"
   ]
  },
  {
   "cell_type": "markdown",
   "id": "c7b31d86",
   "metadata": {},
   "source": [
    "# Задача 3: Создайте шаблон письма"
   ]
  },
  {
   "cell_type": "code",
   "execution_count": null,
   "id": "80f35242",
   "metadata": {},
   "outputs": [],
   "source": [
    "print('{:,}'.format(1234567890))"
   ]
  },
  {
   "cell_type": "code",
   "execution_count": null,
   "id": "844ba52f",
   "metadata": {},
   "outputs": [],
   "source": [
    "user = \"Иван\"\n",
    "product = \"курс Python\"\n",
    "price = 2990\n",
    "date = \"15.12.2023\"\n",
    "# Ожидаемый результат:\n",
    "# Уважаемый Иван!\n",
    "# Вы приобрели курс Python за 2,990.00 руб.\n",
    "# Дата покупки: 15.12.2023\n",
    "# Спасибо за покупку!\n",
    "print(\"Уважаемый {}!\".format(user))\n",
    "print(\"Вы приобрели {} за {:,}.00 руб.\".format(product, price))\n",
    "print(\"Дата покупки: {}\".format(date))\n",
    "print(\"Спасибо за покупку!\")"
   ]
  },
  {
   "cell_type": "markdown",
   "id": "7df4c798",
   "metadata": {},
   "source": [
    "# Задача 4: Создайте SQL запрос с подстановкой параметров\n",
    "Используйте join"
   ]
  },
  {
   "cell_type": "code",
   "execution_count": null,
   "id": "4281b207",
   "metadata": {},
   "outputs": [],
   "source": [
    "table = \"users\"\n",
    "columns = [\"name\", \"age\", \"city\"]\n",
    "values = [\"'Анна'\", \"25\", \"'Москва'\"]\n",
    "\n",
    "sql=\"INSERT INTO {0} ({1}) VALUES ({2});\".format(table, \", \".join(columns), \", \".join(values))\n",
    "print(sql)\n",
    "\n",
    "# Ожидаемый результат:\n",
    "# INSERT INTO users (name, age, city) VALUES ('Анна', 25, 'Москва');\n"
   ]
  },
  {
   "cell_type": "markdown",
   "id": "e4a6d3bb",
   "metadata": {},
   "source": [
    "---"
   ]
  },
  {
   "cell_type": "markdown",
   "id": "8e044697",
   "metadata": {},
   "source": [
    "## При написании функций проверяйте их на примерах"
   ]
  },
  {
   "cell_type": "markdown",
   "id": "75545c45",
   "metadata": {},
   "source": [
    "# Задача 5:\n",
    "Используя цикл `for` и объект `range`, выведите на экран все числа от 1 до 5"
   ]
  },
  {
   "cell_type": "code",
   "execution_count": null,
   "id": "59a38475",
   "metadata": {},
   "outputs": [],
   "source": [
    "for i in range(1, 6):\n",
    "    print(i)"
   ]
  },
  {
   "cell_type": "markdown",
   "id": "fa381873",
   "metadata": {},
   "source": [
    "# Задача 6:\n",
    "Используя цикл `for` и оператор `continue`, выведите на экран все числа от 1 до 20, пропуская те, которые делятся на 5."
   ]
  },
  {
   "cell_type": "code",
   "execution_count": null,
   "id": "df45ee50",
   "metadata": {},
   "outputs": [],
   "source": [
    "for i in range(1, 21):\n",
    "    if i % 5 == 0:\n",
    "        continue\n",
    "    print(i)"
   ]
  },
  {
   "cell_type": "markdown",
   "id": "c910be55",
   "metadata": {},
   "source": [
    "# Задача 7:\n",
    "Дан список чисел `data = [-2, 3, 0, 5, -4, 8, 7, -1, 6]`. Написать функцию, которая используя цикл `for` и условные операторы, выводит на экран только положительные четные числа из этого списка."
   ]
  },
  {
   "cell_type": "code",
   "execution_count": null,
   "id": "f80a5171",
   "metadata": {},
   "outputs": [],
   "source": [
    "data = [-2, 3, 8, 5, -4, 6, 7, -1, 0]\n",
    "\n",
    "for n in data:\n",
    "    if n > 0 and n % 2 == 0:\n",
    "        print(n)"
   ]
  },
  {
   "cell_type": "markdown",
   "id": "0976276f",
   "metadata": {},
   "source": [
    "# Задача 8:\n",
    "Дана последовательность `sequence`. Проведите линейный поиск числа `target` в последовательности с помощью `while-else`. Если число не найдено, то выведите `Число не найдено в последовательности`."
   ]
  },
  {
   "cell_type": "code",
   "execution_count": null,
   "id": "a9401183",
   "metadata": {},
   "outputs": [],
   "source": [
    "sequence = [2, 4, 6, 8, 10, 12, 14, 16]\n",
    "target = int(input(\"Введите число для поиска: \"))\n",
    "index = 0\n",
    "\n",
    "while index < len(sequence):\n",
    "    if sequence[index] == target:\n",
    "        print(f\"Число {target} найдено в последовательности на позиции {index}!\")\n",
    "        break\n",
    "    index += 1\n",
    "else:\n",
    "    print(\"Число не найдено в последовательности\")"
   ]
  },
  {
   "cell_type": "markdown",
   "id": "14412409",
   "metadata": {},
   "source": [
    "# Задача 9: \n",
    "Напишите функцию, которая выводит сумму всех чисел в списке определённого типа (простые, положительные, чётные). Функция должна принимать 2 параметра: функцию, определяющую тип числа и сам список чисел."
   ]
  },
  {
   "cell_type": "code",
   "execution_count": null,
   "id": "81ace6da",
   "metadata": {},
   "outputs": [],
   "source": [
    "def is_even(n):\n",
    "    return n % 2== 0\n",
    "\n",
    "def is_positive(n):\n",
    "    return n > 0\n",
    "\n",
    "def is_prime(n):\n",
    "    if n < 2:\n",
    "        return False\n",
    "    d = 2\n",
    "    while d*d <= n:\n",
    "        if n % d == 0:\n",
    "            return False\n",
    "        d += 1\n",
    "    return True\n",
    "\n",
    "def key_sum(key, numbers):\n",
    "    total = 0\n",
    "    \n",
    "    for x in numbers:\n",
    "        if key(x):\n",
    "            total += x\n",
    "    return total\n",
    "#итоговая функция key_sum"
   ]
  },
  {
   "cell_type": "markdown",
   "id": "9def223e",
   "metadata": {},
   "source": [
    "# Задача 10:\n",
    "Напишите функцию, которая принимает неизвестное количество параметров и возвращает их сумму."
   ]
  },
  {
   "cell_type": "code",
   "execution_count": null,
   "id": "41d7e6f6",
   "metadata": {},
   "outputs": [],
   "source": [
    "def get_sum(*args):\n",
    "    ans = 0\n",
    "    for a in args:\n",
    "        ans += a\n",
    "    return ans\n",
    "\n",
    "print(get_sum(1, 2 , 4, 90))"
   ]
  },
  {
   "cell_type": "markdown",
   "id": "19b6631a",
   "metadata": {},
   "source": [
    "# Задача 11:\n",
    "С помощью рекурсии написать функцию которая вычисляет сумму чисел от 1 до n."
   ]
  },
  {
   "cell_type": "code",
   "execution_count": null,
   "id": "97a6ea78",
   "metadata": {},
   "outputs": [],
   "source": [
    "def sum_range(n):\n",
    "    if n == 1:\n",
    "        return 1\n",
    "    return sum_range(n-1) + n\n",
    "\n",
    "print(sum_range(8))"
   ]
  },
  {
   "cell_type": "markdown",
   "id": "6b9d6859",
   "metadata": {},
   "source": [
    "# Задача 12:\n",
    "С помощью рекурсии написать функцию которая находит факториал натурального числа."
   ]
  },
  {
   "cell_type": "code",
   "execution_count": null,
   "id": "483df2c9",
   "metadata": {},
   "outputs": [],
   "source": [
    "def factorial(n):\n",
    "    if n == 1:\n",
    "        return 1\n",
    "    return factorial(n-1) * n\n",
    "\n",
    "print(factorial(6))"
   ]
  },
  {
   "cell_type": "markdown",
   "id": "c8901d47",
   "metadata": {},
   "source": [
    "# Задача 13:\n",
    "Напишите функцию, которая имеет 2 параметра: функция `foo`, зависящая от одного натурального параметра и натуральное число `n`. Функция должна возвращать сумму `foo(1) + ... + foo(n)`."
   ]
  },
  {
   "cell_type": "code",
   "execution_count": null,
   "id": "ad2ea441",
   "metadata": {},
   "outputs": [],
   "source": [
    "def function(f, n):\n",
    "    return sum(f(i) for i in range(1, n + 1))\n",
    "\n",
    "#например x^2\n",
    "foo = lambda x: x ** 2 \n",
    "n = 3\n",
    "print(f\"Сумма foo(1) до foo({n}): {function(foo, n)}\")"
   ]
  },
  {
   "cell_type": "markdown",
   "id": "70a6b587",
   "metadata": {},
   "source": [
    "# Задача 14:\n",
    "1) Используя функции из задач 12 и 13, написать функцию, которая по количеству слагаемых в частичной сумме ряда вычисляет приближённые значения $\\pi$ и $e$ с помощью формул \n",
    "\n",
    "$$e= 1 + \\frac{1}{1!} + \\frac{1}{2!} + \\frac{1}{3!} + \\dots \\text{   и   }\\frac{\\pi}{4} = 1 - \\frac{1}{3} + \\frac{1}{5} - \\frac{1}{7} + \\frac{1}{9} + \\dots$$\n",
    "\n",
    "Общий член ряда определите с помощью лямбда функции, после чего передайте эту функцию в качестве параметра.\n",
    "\n",
    "2) Написать функцию, которая возвращает минимальное количество слагаемых в сумме, необходимое для того чтобы погрешность была меньше введённого значения.\n",
    "\n",
    "Использовать `math.e` и `math.pi` для вычисления погрешности приближения."
   ]
  },
  {
   "cell_type": "code",
   "execution_count": null,
   "id": "85082893",
   "metadata": {},
   "outputs": [],
   "source": [
    "import math\n",
    "\n",
    "def fac(n):\n",
    "    if n < 1:\n",
    "        return 1\n",
    "    else:\n",
    "        return n * fac(n-1)\n",
    "\n",
    "def f(foo, n):\n",
    "    return sum(map(foo, range(0, n + 1)))\n",
    "\n",
    "def exp(n):\n",
    "    return 1 / fac(n)\n",
    "\n",
    "def pi(n):\n",
    "    return (-1) ** n / (2 * n + 1)\n",
    "\n",
    "\n",
    "e_app = f(exp, 10) \n",
    "pi_app = f(pi, 10000) \n",
    "\n",
    "print(f\"Приближение e: {e_app}\")\n",
    "print(f\"Точное значение e: {math.e}\")\n",
    "print(f\"Погрешность: {abs(e_app - math.e)}\")\n",
    "\n",
    "print(f\"\\nПриближение π: {pi_app}\")\n",
    "print(f\"Точное значение π: {math.pi}\")\n",
    "print(f\"Погрешность: {abs(pi_app - math.pi)}\")\n"
   ]
  },
  {
   "cell_type": "markdown",
   "id": "1d67a10e",
   "metadata": {},
   "source": [
    "# Задача 15: Комбинированные операции\n",
    "Напишите функцию, которая применяет к числу неизвестное число последовательных операций (+, -, *, ^, /), заданных лямбда функциями.\n",
    "Например:((3+10)*2-5)^2 \n",
    "\n",
    "К числу 3 прибавляют 10, потом результат умножают на 2 и т.д. Всего применено 4 операции."
   ]
  },
  {
   "cell_type": "code",
   "execution_count": null,
   "id": "40e316c6",
   "metadata": {},
   "outputs": [],
   "source": [
    "def oper(value, *operations):\n",
    "    answer = value\n",
    "    for op in operations:\n",
    "        answer = op(answer)\n",
    "    return answer\n",
    "\n",
    "result = oper(3,\n",
    "    lambda x: x + 10,\n",
    "    lambda x: x * 2,\n",
    "    lambda x: x - 5,\n",
    "    lambda x: x ** 2\n",
    ")\n",
    "print(result)\n",
    "#operУполномоченный... Смешно"
   ]
  },
  {
   "cell_type": "markdown",
   "id": "a46182ce",
   "metadata": {},
   "source": [
    "# Задача 16: \"Анализатор оценок студентов\"\n",
    "\n",
    "Условие: Напишите программу, которая анализирует успеваемость студентов. Программа должна:\n",
    "\n",
    "1) Запрашивать количество студентов\n",
    "\n",
    "2) Для каждого студента запрашивать имя и оценку (от 1 до 10)\n",
    "\n",
    "3) Вычислять средний балл\n",
    "\n",
    "4) Определять статистику по оценкам\n",
    "\n",
    "5) Форматировать вывод с использованием .format()"
   ]
  },
  {
   "cell_type": "markdown",
   "id": "b1ba0de2",
   "metadata": {},
   "source": [
    "Примерный вывод:"
   ]
  },
  {
   "cell_type": "code",
   "execution_count": null,
   "id": "ccbbd201",
   "metadata": {},
   "outputs": [],
   "source": [
    "number_of_students = int(input(\"Введите кол-во студентов: \"))\n",
    "students = []\n",
    "\n",
    "for i in range(number_of_students):\n",
    "    print(f\"--- Студент {i} ---\", i)\n",
    "    name = input(\"Введите имя студента: \")\n",
    "    grade = int(input(\"Введите оценку (1-10): \"))\n",
    "    students.append({'name': name, 'grade': grade})\n",
    "    \n",
    "total = sum(student['grade'] for student in students)\n",
    "av_grade = total / number_of_students if number_of_students > 0 else 0\n",
    "\n",
    "excellent = len([s for s in students if s['grade'] >= 9])\n",
    "good = len([s for s in students if 7 <= s['grade'] <= 8])\n",
    "norm = len([s for s in students if 5 <= s['grade'] <= 6])\n",
    "fail = len([s for s in students if s['grade'] <= 4])\n",
    "\n",
    "per_ex = excellent / number_of_students\n",
    "per_good = good / number_of_students\n",
    "per_norm = norm / number_of_students\n",
    "per_fail = fail / number_of_students\n",
    "\n",
    "def status(grade):\n",
    "    if grade >= 9:\n",
    "        return \"Отлично\"\n",
    "    elif grade >= 7:\n",
    "        return \"Хорошо\"\n",
    "    elif grade >= 5:\n",
    "        return \"Удовлетворительно\"\n",
    "    else:\n",
    "        return \"Неудовлитворительно\"\n",
    "    \n",
    "print(\"==================================================\")\n",
    "print(\"**РЕЗУЛЬТАТЫ АНАЛИЗА УСПЕВАЕМОСТИ**\")\n",
    "print(\"==================================================\")\n",
    "\n",
    "print(\"\\n| {:15} | {:6} | {:18} |\".format(\"Имя студента\", \"Оценка\", \"Статус\"))\n",
    "print(\"--------------------------------------------------\")\n",
    "\n",
    "for pop in students:\n",
    "    print(\"| {:15} | {:6} | {:18} |\".format( pop['name'], pop['grade'], status(pop['grade']) ) )\n",
    "\n",
    "print(\"--------------------------------------------------\")    \n",
    "print(\"**СТАТИСТИКА:**\")\n",
    "print(\"Средний балл: {:.2f}\".format(av_grade))\n",
    "print(\"Всего студентов: {}\".format(number_of_students))\n",
    "print(\"Отличников (9-10): {} ({:.1f}%)\".format(excellent, per_ex*100))\n",
    "print(\"Хорошистов (7-8): {} ({:.1f}%)\".format(good, per_good*100))\n",
    "print(\"Троечников (5-6): {} ({:.1f}%)\".format(norm, per_norm*100))\n",
    "print(\"Неуспевающих (1-4): {} ({:.1f}%)\".format(fail, per_fail*100))\n",
    "\n",
    "print(\"************************ ИТОГ ************************\")\n",
    "if av_grade >= 8:\n",
    "    print(\"ВЫСОКАЯ УСПЕВАЕМОСТЬ\")\n",
    "elif av_grade >= 6:\n",
    "    print(\"СРЕДНЯЯ УСПЕВАЕМОСТЬ\")\n",
    "else:\n",
    "    print(\"НИЗКАЯ УСПЕВАЕМОСТЬ\")"
   ]
  },
  {
   "cell_type": "markdown",
   "id": "eaaa2c0e",
   "metadata": {},
   "source": [
    "# Задача 17\n",
    "С помощью модуля math и лямбда функций создайте программу, которая на выбор создаёт функцию (e^x, x^2, x^3, sin(x)) и выводит на выбор один из результатов:\n",
    "1) Производная функции в точке (вычисленная приближённо как для произвольной дифференцируемой функции)\n",
    "2) Интеграл функции на отрезке $[a,b]$, вычисленный по методу прямоугольников"
   ]
  },
  {
   "cell_type": "code",
   "execution_count": null,
   "id": "fa76a41c",
   "metadata": {},
   "outputs": [],
   "source": [
    "import math\n",
    "\n",
    "functions = {\n",
    "    '1': ('e^x', lambda x: math.exp(x)),\n",
    "    '2': ('x^2', lambda x: x**2),\n",
    "    '3': ('x^3', lambda x: x**3),\n",
    "    '4': ('sin(x)', lambda x: math.sin(x))\n",
    "}\n",
    "\n",
    "def deffirincial(f, x, h=1e-5):\n",
    "    return (f(x+h)- f(x-h)) / (2*h)\n",
    "\n",
    "def integral(f, a, b, n=10**5):\n",
    "    h = (b - a) / n\n",
    "    integ = 0\n",
    "    for i in range(n):\n",
    "        x = a + i*h\n",
    "        integ += f(x) * h\n",
    "    return integ\n",
    "\n",
    "choice = input(\"Выберите функцию: 1.e^x   2.x^2   3.x^3   4.sin(x)\")\n",
    "name, func = functions[choice]\n",
    "\n",
    "x = float(input(\"Введите точку: \"))\n",
    "a, b = map(float, input(\"Введите границы отрезка [a,b]: \").split())\n",
    "print(f\"1. Производная функции {name} равна {deffirincial(func, x)}\")\n",
    "print(f\"2. Интеграл функции на отрезке [{a}, {b}] равен {integral(func, a, b)}\")"
   ]
  }
 ],
 "metadata": {
  "kernelspec": {
   "display_name": "Python 3",
   "language": "python",
   "name": "python3"
  },
  "language_info": {
   "codemirror_mode": {
    "name": "ipython",
    "version": 3
   },
   "file_extension": ".py",
   "mimetype": "text/x-python",
   "name": "python",
   "nbconvert_exporter": "python",
   "pygments_lexer": "ipython3",
   "version": "3.13.7"
  }
 },
 "nbformat": 4,
 "nbformat_minor": 5
}
