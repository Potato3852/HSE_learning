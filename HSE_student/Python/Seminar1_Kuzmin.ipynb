{
  "cells": [
    {
      "cell_type": "markdown",
      "id": "e9471d38",
      "metadata": {
        "id": "e9471d38"
      },
      "source": [
        "## Задание 1\n",
        "Напишите программу, которая запрашивает у пользователя имя и выводит приветствие, используя введенное имя."
      ]
    },
    {
      "cell_type": "code",
      "execution_count": null,
      "id": "4ce48407",
      "metadata": {
        "id": "4ce48407"
      },
      "outputs": [],
      "source": [
        "name = input(\"Введите имя\")\n",
        "print(\"Здравствуй,\", name, \"!\")"
      ]
    },
    {
      "cell_type": "markdown",
      "id": "e6913f49",
      "metadata": {
        "id": "e6913f49"
      },
      "source": [
        "## Задание 2\n",
        "Напишите программу, которая запрашивает у пользователя два числа и выводит их сумму, разность, произведение и частное."
      ]
    },
    {
      "cell_type": "code",
      "execution_count": null,
      "id": "c0709572",
      "metadata": {
        "id": "c0709572"
      },
      "outputs": [
        {
          "ename": "",
          "evalue": "",
          "output_type": "error",
          "traceback": [
            "\u001b[1;31mRunning cells with 'Python 3.13.7' requires the ipykernel package.\n",
            "\u001b[1;31mInstall 'ipykernel' into the Python environment. \n",
            "\u001b[1;31mCommand: '/bin/python -m pip install ipykernel -U --user --force-reinstall'"
          ]
        }
      ],
      "source": [
        "a, b = map(float, input(\"Введите два числа: \").split())\n",
        "\n",
        "print(f\"Сумма: {a} + {b} = {a+b}\")\n",
        "print(f\"Разность: {a} - {b} = {a-b}\")\n",
        "print(f\"Произведение: {a} * {b} = {a*b}\")\n",
        "if b == 0:\n",
        "    print(f\"Не получится поделить {a} на {b}\")\n",
        "else:\n",
        "    print(f\"Частное: {a} / {b} = {a/b}\")"
      ]
    },
    {
      "cell_type": "markdown",
      "id": "e822d68a",
      "metadata": {
        "id": "e822d68a"
      },
      "source": [
        "## Задание 3\n",
        "Напишите программу, которая запрашивает у пользователя радиус круга и выводит его площадь и длину окружности."
      ]
    },
    {
      "cell_type": "code",
      "execution_count": null,
      "id": "c07ca9dd",
      "metadata": {
        "id": "c07ca9dd"
      },
      "outputs": [],
      "source": [
        "r = float(input(\"Введите радиус круга: \"))\n",
        "pi = 3.14\n",
        "print(f\"Площадь круга: {pi * r *r}\")\n",
        "print(f\"Длина окружности {2 * pi * r}\")"
      ]
    },
    {
      "cell_type": "markdown",
      "id": "42250db2",
      "metadata": {
        "id": "42250db2"
      },
      "source": [
        "## Задание 4\n",
        "Напишите программу, которая запрашивает у пользователя два числа и определяет, какое из них больше, меньше или равно."
      ]
    },
    {
      "cell_type": "code",
      "execution_count": null,
      "id": "ba222b0c",
      "metadata": {
        "id": "ba222b0c"
      },
      "outputs": [],
      "source": [
        "a, b = map(float, input(\"Введите два числа: \").split())\n",
        "if a == b:\n",
        "    print(f\"Числа {a} и {b} равны\")\n",
        "elif a > b:\n",
        "    print(f\"Число {a} больше {b}\")\n",
        "else:\n",
        "    print(f\"Число {b} больше {a}\")"
      ]
    },
    {
      "cell_type": "markdown",
      "id": "0f157cca",
      "metadata": {
        "id": "0f157cca"
      },
      "source": [
        "## Задание 5\n",
        "Напишите программу, которая запрашивает у пользователя строку и определяет, является ли она палиндромом."
      ]
    },
    {
      "cell_type": "code",
      "execution_count": null,
      "id": "ee3b0c32",
      "metadata": {
        "id": "ee3b0c32"
      },
      "outputs": [],
      "source": [
        "string = input(\"Введите строку: \").replace(\" \", \"\").lower()\n",
        "\n",
        "if string == string[::-1]:\n",
        "    print(f\"Строка {string} является полиндромом\")\n",
        "else: \n",
        "    print(f\"Строка {string} не является полиндромом\")"
      ]
    },
    {
      "cell_type": "markdown",
      "id": "f9c0dbaa",
      "metadata": {
        "id": "f9c0dbaa"
      },
      "source": [
        "## Задание 6\n",
        "Напишите программу, которая запрашивает у пользователя год и определяет, является ли он високосным."
      ]
    },
    {
      "cell_type": "code",
      "execution_count": null,
      "id": "b22ff56b",
      "metadata": {
        "id": "b22ff56b"
      },
      "outputs": [],
      "source": [
        "year = int(input(\"Введите год: \"))\n",
        "\n",
        "if year % 4 ==0:\n",
        "    print(\"Является высокосным\")\n",
        "else:\n",
        "    print(\"Не является высокосным\")"
      ]
    },
    {
      "cell_type": "markdown",
      "id": "8ddbc232",
      "metadata": {
        "id": "8ddbc232"
      },
      "source": [
        "## Задание 7\n",
        "Напишите программу, которая запрашивает у пользователя число и выводит таблицу умножения для этого числа."
      ]
    },
    {
      "cell_type": "code",
      "execution_count": null,
      "id": "0326e915",
      "metadata": {
        "id": "0326e915"
      },
      "outputs": [],
      "source": [
        "a = int(input(\"Введите число: \"))\n",
        "print(\"Таблица умножения числа: \")\n",
        "for i in range(1,10):\n",
        "    print(f\"{a} x {i} = {a*i}\")"
      ]
    },
    {
      "cell_type": "markdown",
      "id": "65fc7d13",
      "metadata": {
        "id": "65fc7d13"
      },
      "source": [
        "## Задание 8\n",
        "Напишите программу, которая запрашивает у пользователя два числа и выводит все четные числа в диапазоне между ними."
      ]
    },
    {
      "cell_type": "code",
      "execution_count": null,
      "id": "34f9a921",
      "metadata": {
        "id": "34f9a921"
      },
      "outputs": [],
      "source": [
        "a, b = map(int, input(\"Введите два числа: \").split())\n",
        "\n",
        "l, r= min(a, b), max(a, b)\n",
        "ans = \" \".join(str(num) for num in range(l+1, r) if num % 2 == 0)\n",
        "#Не знаю можно ли было пользоваться join, но все же так круче\n",
        "\n",
        "print(f\"Четные числа в диапазоне: {ans}\" if ans else \"В диапазоне нет четных чисел\")"
      ]
    },
    {
      "cell_type": "markdown",
      "id": "604e4e2f",
      "metadata": {
        "id": "604e4e2f"
      },
      "source": [
        "## Задание 9\n",
        "Напишите программу, которая запрашивает у пользователя строку и выводит ее в обратном порядке."
      ]
    },
    {
      "cell_type": "code",
      "execution_count": null,
      "id": "232c6cf4",
      "metadata": {
        "id": "232c6cf4"
      },
      "outputs": [],
      "source": [
        "s = input(\"Введите строку: \")\n",
        "print(s[::-1])"
      ]
    },
    {
      "cell_type": "markdown",
      "id": "b0fc75b2",
      "metadata": {
        "id": "b0fc75b2"
      },
      "source": [
        "## Задание 10\n",
        "Напишите программу, которая запрашивает у пользователя число и определяет, является ли оно простым."
      ]
    },
    {
      "cell_type": "code",
      "execution_count": null,
      "id": "7da7a906",
      "metadata": {
        "id": "7da7a906"
      },
      "outputs": [],
      "source": [
        "a = int(input(\"Введите число: \"))\n",
        "\n",
        "if a < 2:\n",
        "    print(f\"Число {a} не простое\")\n",
        "else:\n",
        "    flag = all(a % i != 0 for i in range(2, int(a**0.5) + 1))\n",
        "    print(f\"Число {a} простое\" if flag else f\"Число {a} не простое\")"
      ]
    },
    {
      "cell_type": "markdown",
      "id": "a11a8a0e",
      "metadata": {
        "id": "a11a8a0e"
      },
      "source": [
        "## Задание 11\n",
        "Напишите программу, которая запрашивает у пользователя строку и подсчитывает количество гласных и согласных букв в ней."
      ]
    },
    {
      "cell_type": "code",
      "execution_count": null,
      "id": "d2914527",
      "metadata": {
        "id": "d2914527"
      },
      "outputs": [],
      "source": [
        "glas = \"eiouаеёиоуыэюя\"\n",
        "s= input(\"Введите строку: \").lower()\n",
        "prob = \"-_ .,?\"\n",
        "print(f\"Гласных букв в ней: {sum(c in glas for c in s)}, а согласных: {sum(c in glas and c not in prob for c in s)}\")"
      ]
    },
    {
      "cell_type": "markdown",
      "id": "f0daeb9d",
      "metadata": {
        "id": "f0daeb9d"
      },
      "source": [
        "## Задание 12\n",
        "Напишите программу, которая запрашивает у пользователя два числа и выводит их наибольший общий делитель."
      ]
    },
    {
      "cell_type": "code",
      "execution_count": null,
      "id": "e45356c9",
      "metadata": {
        "id": "e45356c9"
      },
      "outputs": [],
      "source": [
        "a, b = map(int, input(\"Введите два числа: \").split())\n",
        "while a != b:\n",
        "    if a > b:\n",
        "        a -= b\n",
        "    else:\n",
        "        b -= a\n",
        "print(f\"НОД = {a}\")\n",
        "#Евклид"
      ]
    },
    {
      "cell_type": "markdown",
      "id": "fea6e2d3",
      "metadata": {
        "id": "fea6e2d3"
      },
      "source": [
        "## Задание 13\n",
        "Напишите программу, которая запрашивает у пользователя число и выводит его факториал."
      ]
    },
    {
      "cell_type": "code",
      "execution_count": null,
      "id": "5495624d",
      "metadata": {
        "id": "5495624d"
      },
      "outputs": [],
      "source": [
        "from math import factorial\n",
        "print(f\"Факториал числа = {factorial(int(input(\"Введите число: \")))}\")\n",
        "#Ну тут я разошелся конечно"
      ]
    },
    {
      "cell_type": "markdown",
      "id": "145a204e",
      "metadata": {
        "id": "145a204e"
      },
      "source": [
        "## Задание 14\n",
        "Напишите программу, которая запрашивает у пользователя строку и заменяет в ней все пробелы на символы подчеркивания."
      ]
    },
    {
      "cell_type": "code",
      "execution_count": null,
      "id": "5f0d256a",
      "metadata": {
        "id": "5f0d256a"
      },
      "outputs": [],
      "source": [
        "s = input(\"Введите строку: \")\n",
        "print(s.replace(\" \", \"_\"))"
      ]
    },
    {
      "cell_type": "markdown",
      "id": "abd419eb",
      "metadata": {
        "id": "abd419eb"
      },
      "source": [
        "## Задание 15\n",
        "Напишите программу, которая запрашивает у пользователя два числа и выводит их наименьшее общее кратное."
      ]
    },
    {
      "cell_type": "code",
      "execution_count": null,
      "id": "185e6d82",
      "metadata": {
        "id": "185e6d82"
      },
      "outputs": [],
      "source": [
        "a, b = map(int, input(\"Введите два числа: \").split())\n",
        "pr = a * b\n",
        "while a != b:\n",
        "    if a > b:\n",
        "        a -= b\n",
        "    else:\n",
        "        b -= a\n",
        "print(f\"НОК = {pr / a}\")\n",
        "#Стырил свой же код из 12 задания"
      ]
    },
    {
      "cell_type": "markdown",
      "id": "a9ae64b9",
      "metadata": {
        "id": "a9ae64b9"
      },
      "source": [
        "## Задание 16\n",
        "Напишите программу, которая запрашивает у пользователя строку и удаляет из нее все гласные буквы."
      ]
    },
    {
      "cell_type": "code",
      "execution_count": null,
      "id": "e9558ad4",
      "metadata": {
        "id": "e9558ad4"
      },
      "outputs": [],
      "source": [
        "s = input().lower()\n",
        "print(''.join(c for c in s if c not in 'aeiouауоыиэяюёе'))\n",
        "#Идея примерно та же что и в 11 задании"
      ]
    },
    {
      "cell_type": "markdown",
      "id": "d5a2a601",
      "metadata": {
        "id": "d5a2a601"
      },
      "source": [
        "## Задание 17\n",
        "Напишите программу, которая запрашивает у пользователя число и выводит все его делители."
      ]
    },
    {
      "cell_type": "code",
      "execution_count": null,
      "id": "17bfda82",
      "metadata": {
        "id": "17bfda82"
      },
      "outputs": [],
      "source": [
        "a = int(input(\"Введите число: \"))\n",
        "ans = [str(num) for num in range(1, a+1) if a % num == 0]\n",
        "print(f\"Все делители числа {a}:\", \" \".join(ans))"
      ]
    },
    {
      "cell_type": "markdown",
      "id": "2516edb7",
      "metadata": {
        "id": "2516edb7"
      },
      "source": [
        "## Задание 18\n",
        "Напишите программу, которая запрашивает у пользователя строку и определяет, является ли она анаграммой другой строки (введенной ранее или заданной в коде)."
      ]
    },
    {
      "cell_type": "code",
      "execution_count": null,
      "id": "1e00ddc4",
      "metadata": {
        "id": "1e00ddc4"
      },
      "outputs": [],
      "source": [
        "target = \"дом\"\n",
        "s = input(\"Введите строку: \").lower().replace(\" \", \"\")\n",
        "target_clean = target.lower().replace(\" \", \"\")\n",
        "\n",
        "print(\"Является анаграммой\" if sorted(s) == sorted(target_clean) else \"Не является анаграммой\")"
      ]
    },
    {
      "cell_type": "markdown",
      "id": "559273af",
      "metadata": {
        "id": "559273af"
      },
      "source": [
        "## Задание 19\n",
        "Напишите программу, которая запрашивает у пользователя число и выводит его в двоичной системе счисления."
      ]
    },
    {
      "cell_type": "code",
      "execution_count": null,
      "id": "f1f71eb2",
      "metadata": {
        "id": "f1f71eb2"
      },
      "outputs": [],
      "source": [
        "a = int(input(\"Введите число: \"))\n",
        "print(f\"bin(a) = {bin(a)}\")"
      ]
    },
    {
      "cell_type": "markdown",
      "id": "de642cf6",
      "metadata": {
        "id": "de642cf6"
      },
      "source": [
        "## Задание 20\n",
        "Напишите программу, которая запрашивает у пользователя строку и выводит ее, удалив все повторяющиеся символы."
      ]
    },
    {
      "cell_type": "code",
      "execution_count": null,
      "id": "6120d95e",
      "metadata": {
        "id": "6120d95e"
      },
      "outputs": [],
      "source": [
        "s = input(\"Введите строку: \")\n",
        "ans = ''\n",
        "for c in s:\n",
        "    if c not in ans:\n",
        "        ans += c\n",
        "print(\"После починки:\", ans)"
      ]
    },
    {
      "cell_type": "markdown",
      "id": "ccd0a357",
      "metadata": {
        "id": "ccd0a357"
      },
      "source": [
        "## Задание 21\n",
        "Напишите программу, которая запрашивает у пользователя два числа и выводит все числа Фибоначчи в диапазоне между ними."
      ]
    },
    {
      "cell_type": "code",
      "execution_count": null,
      "id": "80af4f84",
      "metadata": {
        "id": "80af4f84"
      },
      "outputs": [],
      "source": [
        "start = int(input(\"Введите начало диапазона\"))\n",
        "end = int(input(\"Введите конец диапазона\"))\n",
        "\n",
        "ans = []\n",
        "\n",
        "l, r = 0, 1\n",
        "while l <= end:\n",
        "    if l >=start:\n",
        "        ans.append(l)\n",
        "    l, r = r, l+r\n",
        "\n",
        "print(f\"Числа фибоначи между {l} и {r}: {ans}\")\n",
        "    "
      ]
    },
    {
      "cell_type": "markdown",
      "id": "6d397516",
      "metadata": {
        "id": "6d397516"
      },
      "source": [
        "## Задание 22\n",
        "Напишите программу, которая запрашивает у пользователя строку и определяет, является ли она панграммой (содержит все буквы алфавита хотя бы один раз)."
      ]
    },
    {
      "cell_type": "code",
      "execution_count": null,
      "id": "e3413e0a",
      "metadata": {
        "id": "e3413e0a"
      },
      "outputs": [],
      "source": [
        "alph = \"абвгдеёжзийклмнопрстуфхцчшщъыьэюя\"\n",
        "text = input(\"Введите строку: \").lower()\n",
        "\n",
        "flag = True\n",
        "\n",
        "for a in alph:\n",
        "    if a not in text:\n",
        "        flag = False\n",
        "        break\n",
        "\n",
        "if flag:\n",
        "    print(\"Да, это панграмма!\")\n",
        "else:\n",
        "    print(\"Нет, это не панграмма.\")"
      ]
    },
    {
      "cell_type": "markdown",
      "id": "c7f319be",
      "metadata": {
        "id": "c7f319be"
      },
      "source": [
        "## Задание 23\n",
        "Напишите программу, которая запрашивает у пользователя число и выводит его представление в римской системе счисления."
      ]
    },
    {
      "cell_type": "code",
      "execution_count": null,
      "id": "84726985",
      "metadata": {
        "id": "84726985"
      },
      "outputs": [],
      "source": [
        "dec = [\"\", \"X\", \"XX\", \"XXX\", \"XL\", \"L\", \"LX\", \"LXX\", \"LXXX\", \"XC\"]\n",
        "ones = [\"\", \"I\", \"II\", \"III\", \"IV\", \"V\", \"VI\", \"VII\", \"VIII\", \"IX\"]\n",
        "\n",
        "a = int(input(\"Введите число до 99\"))\n",
        "answer = dec[a//10] + ones[a%10]\n",
        "\n",
        "print(f\"Число в Римских цифрах: {answer}\")"
      ]
    },
    {
      "cell_type": "markdown",
      "id": "c2110c18",
      "metadata": {
        "id": "c2110c18"
      },
      "source": [
        "## Задание 24\n",
        "Напишите программу, которая запрашивает у пользователя строку и выводит ее, заменив каждую букву на следующую в алфавите (с циклическим сдвигом)."
      ]
    },
    {
      "cell_type": "code",
      "execution_count": null,
      "id": "a80f1dff",
      "metadata": {
        "id": "a80f1dff"
      },
      "outputs": [],
      "source": [
        "text = input(\"Введите строку: \")\n",
        "\n",
        "ans = \"\"\n",
        "\n",
        "for c in text:\n",
        "    if 'a' <= c <= 'z':\n",
        "        if c == 'z':\n",
        "            ans += 'a'\n",
        "        else:\n",
        "            ans += chr(ord(c) + 1)\n",
        "    elif 'A' <= c <= 'Z':\n",
        "        if c == 'Z':\n",
        "            ans += 'A'\n",
        "        else:\n",
        "            ans += chr(ord(c) + 1)\n",
        "    elif 'а' <= c <= 'я':\n",
        "        if c == 'я':\n",
        "            ans += 'а'\n",
        "        else:\n",
        "            ans += chr(ord(c) + 1)\n",
        "    elif 'А' <= c <= 'Я':\n",
        "        if c == 'Я':\n",
        "            ans += 'А'\n",
        "        else:\n",
        "            ans += chr(ord(c) + 1)\n",
        "    else:\n",
        "        ans += c\n",
        "\n",
        "print(\"ЧТО-ТО СЛУЧИЛОСЬ С НЕЙ:\", ans)"
      ]
    },
    {
      "cell_type": "markdown",
      "id": "0da1720d",
      "metadata": {
        "id": "0da1720d"
      },
      "source": [
        "## Задание 25\n",
        "Напишите программу, которая запрашивает у пользователя число и определяет, является ли оно совершенным (равно сумме своих делителей, не считая самого числа)."
      ]
    },
    {
      "cell_type": "code",
      "execution_count": null,
      "id": "102b4f8a",
      "metadata": {
        "id": "102b4f8a"
      },
      "outputs": [],
      "source": [
        "a = int(input(\"Введите число: \"))\n",
        "s = 0\n",
        "for i in range(1, a):\n",
        "    if a % i ==0:\n",
        "        s += i\n",
        "print(\"Совершенное\" if a == s else \"Несовершенное\")"
      ]
    },
    {
      "cell_type": "markdown",
      "id": "fb51c547",
      "metadata": {
        "id": "fb51c547"
      },
      "source": [
        "## Задание 26\n",
        "Напишите программу, которая генерирует случайное число в заданном диапазоне и предлагает пользователю угадать его. Предоставьте пользователю несколько попыток и подсказки (больше или меньше)."
      ]
    },
    {
      "cell_type": "code",
      "execution_count": null,
      "id": "1dc96b03",
      "metadata": {
        "id": "1dc96b03"
      },
      "outputs": [],
      "source": [
        "import random\n",
        "\n",
        "a, b = map(int, input(\"Введите диапазон\").split())\n",
        "aim = random.randint(a,b)\n",
        "attempt = int(input(\"Ну давай попробуй угадать, введи число\"))\n",
        "\n",
        "print(\"Угадал\" if aim == attempt else f\"Не попал, число было {aim}\")"
      ]
    },
    {
      "cell_type": "markdown",
      "id": "98ee9280",
      "metadata": {
        "id": "98ee9280"
      },
      "source": [
        "## Задание 27\n",
        "Напишите программу, которая запрашивает у пользователя строку и определяет, является ли она изограммой (все буквы встречаются только один раз)."
      ]
    },
    {
      "cell_type": "code",
      "execution_count": null,
      "id": "60907e61",
      "metadata": {
        "id": "60907e61"
      },
      "outputs": [],
      "source": [
        "text = input(\"Введите строку: \").lower()\n",
        "line = [c for c in text if c.isalpha()]\n",
        "\n",
        "print(\"Да изограма\" if len(line) == len(set(line)) else \"Нет, не изограмма\")"
      ]
    },
    {
      "cell_type": "markdown",
      "id": "8385d9fe",
      "metadata": {
        "id": "8385d9fe"
      },
      "source": [
        "## Задание 28\n",
        "Напишите программу, которая запрашивает у пользователя два числа и выводит все простые числа в диапазоне между ними."
      ]
    },
    {
      "cell_type": "code",
      "execution_count": null,
      "id": "a2ea4165",
      "metadata": {
        "id": "a2ea4165"
      },
      "outputs": [],
      "source": [
        "def pr(a):\n",
        "    if a < 2:\n",
        "        return False\n",
        "    \n",
        "    for i in range(2, int(a**0.5)+1):\n",
        "        if a % i ==0:\n",
        "            return False\n",
        "        \n",
        "    return True\n",
        "\n",
        "a, b = map(int, input(\"Введите два числа\").split())\n",
        "answer = [x for x in range(a+1, b) if pr(x)]\n",
        "print(f\"Простые числа между {a} и {b}: {answer}\")"
      ]
    },
    {
      "cell_type": "markdown",
      "id": "0a964879",
      "metadata": {
        "id": "0a964879"
      },
      "source": [
        "## Задание 29\n",
        "Напишите программу, которая запрашивает у пользователя строку и выводит ее, отсортировав слова в алфавитном порядке."
      ]
    },
    {
      "cell_type": "code",
      "execution_count": null,
      "id": "47886b8f",
      "metadata": {
        "id": "47886b8f"
      },
      "outputs": [],
      "source": [
        "line = input(\"Введите строку\")\n",
        "words = line.split()\n",
        "sort = sorted(words, key=str.lower)\n",
        "#Не знал можно ли использоваь сортировку в явном виде, но всё же\n",
        "result = ' '.join(sort)\n",
        "print(f\"Навел порядок {result}\")"
      ]
    }
  ],
  "metadata": {
    "colab": {
      "provenance": []
    },
    "kernelspec": {
      "display_name": "Python 3",
      "language": "python",
      "name": "python3"
    },
    "language_info": {
      "codemirror_mode": {
        "name": "ipython",
        "version": 3
      },
      "file_extension": ".py",
      "mimetype": "text/x-python",
      "name": "python",
      "nbconvert_exporter": "python",
      "pygments_lexer": "ipython3",
      "version": "3.13.7"
    }
  },
  "nbformat": 4,
  "nbformat_minor": 5
}
